{
 "cells": [
  {
   "cell_type": "markdown",
   "id": "3801b044-89cf-4a3b-bf27-a8fb66c73566",
   "metadata": {},
   "source": [
    "# Data Science Tools and Ecosystems."
   ]
  },
  {
   "cell_type": "markdown",
   "id": "be6a0b9f-4ab2-44bc-b688-838500269e93",
   "metadata": {},
   "source": [
    "In this notebook, Data Science Tools and Ecosystem are summarized."
   ]
  },
  {
   "cell_type": "markdown",
   "id": "6e86c3d0-3ef0-44d9-bf78-d941512dc459",
   "metadata": {
    "jp-MarkdownHeadingCollapsed": true
   },
   "source": [
    "<b>Objectives:</b>\n",
    "* list of popular languages that are used by data scientists\n",
    "* commonly used libraries \n",
    "* Data science tools\n",
    "* evaluating arithmetic expressions"
   ]
  },
  {
   "cell_type": "markdown",
   "id": "d48549f0-79ea-4546-a80f-9d2731ba3e65",
   "metadata": {},
   "source": [
    "Some of the popular languages that Data Scientists use are:"
   ]
  },
  {
   "cell_type": "markdown",
   "id": "b73081ed-02e6-477f-a78a-87b17acb1492",
   "metadata": {},
   "source": [
    "1. Python\n",
    "2. SQL\n",
    "3. R"
   ]
  },
  {
   "cell_type": "markdown",
   "id": "21e21f6a-14c2-4864-b3e0-47932003745c",
   "metadata": {},
   "source": [
    "Some of the commonly used libraries used by Data Scientists include: "
   ]
  },
  {
   "cell_type": "markdown",
   "id": "441aaf7e-1283-4bba-aca8-b855fdaf10c2",
   "metadata": {},
   "source": [
    "1. TensorFLow\n",
    "2. NumPy\n",
    "3. SciPy"
   ]
  },
  {
   "cell_type": "markdown",
   "id": "f335f842-3a0b-463c-a1bd-5d232399fae9",
   "metadata": {},
   "source": [
    "| Data Science Tools |\n",
    "|:---------:|\n",
    "| RStudio |\n",
    "| Apache spark|\n",
    "| Apache Hadoop|"
   ]
  },
  {
   "cell_type": "markdown",
   "id": "b6b31789-1cf2-4b2e-83e8-272aec45f0d5",
   "metadata": {},
   "source": [
    "Below are a few examples of evaluating arithmetic expressions in Python"
   ]
  },
  {
   "cell_type": "markdown",
   "id": "022d73b8-53ef-447c-a421-913e065ebb7b",
   "metadata": {},
   "source": [
    "This a simple arithmetic expression to mutiply then add integers"
   ]
  },
  {
   "cell_type": "code",
   "execution_count": 33,
   "id": "399bef9c-e4ed-4f39-8f8c-c474648bbe0a",
   "metadata": {},
   "outputs": [
    {
     "data": {
      "text/plain": [
       "17"
      ]
     },
     "execution_count": 33,
     "metadata": {},
     "output_type": "execute_result"
    }
   ],
   "source": [
    "(3*4)+5"
   ]
  },
  {
   "cell_type": "markdown",
   "id": "afeff8b8-65b1-4ea4-ba79-27980c2192ee",
   "metadata": {},
   "source": [
    "This will convert 200 minutes to hours by diving by 60"
   ]
  },
  {
   "cell_type": "code",
   "execution_count": 37,
   "id": "3661cc45-c833-4ba2-944f-26fe83dbf237",
   "metadata": {},
   "outputs": [
    {
     "data": {
      "text/plain": [
       "3.3333333333333335"
      ]
     },
     "execution_count": 37,
     "metadata": {},
     "output_type": "execute_result"
    }
   ],
   "source": [
    "200/60"
   ]
  },
  {
   "cell_type": "markdown",
   "id": "1369a995-4b69-49f3-9f99-8a46c9ee2511",
   "metadata": {},
   "source": [
    "## Author\n",
    "Sanjanna Agarwal"
   ]
  },
  {
   "cell_type": "code",
   "execution_count": null,
   "id": "26b6305c-9bcd-4416-a287-b98cb94736fc",
   "metadata": {},
   "outputs": [],
   "source": []
  }
 ],
 "metadata": {
  "kernelspec": {
   "display_name": "anaconda-panel-2023.05-py310",
   "language": "python",
   "name": "conda-env-anaconda-panel-2023.05-py310-py"
  },
  "language_info": {
   "codemirror_mode": {
    "name": "ipython",
    "version": 3
   },
   "file_extension": ".py",
   "mimetype": "text/x-python",
   "name": "python",
   "nbconvert_exporter": "python",
   "pygments_lexer": "ipython3",
   "version": "3.11.5"
  }
 },
 "nbformat": 4,
 "nbformat_minor": 5
}
